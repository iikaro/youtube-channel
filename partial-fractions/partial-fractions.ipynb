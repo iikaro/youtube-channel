{
 "cells": [
  {
   "cell_type": "markdown",
   "source": [
    "[![Open In Colab](https://colab.research.google.com/assets/colab-badge.svg)](https://colab.research.google.com/github/iikaro/youtube-channel/blob/feature/partial-fractions/partial-fractions/partial-fractions.ipynb)"
   ],
   "metadata": {
    "collapsed": false,
    "pycharm": {
     "name": "#%% md\n"
    }
   }
  },
  {
   "cell_type": "markdown",
   "source": [
    "# Frações parciais (com SymPy)"
   ],
   "metadata": {
    "collapsed": false,
    "pycharm": {
     "name": "#%% md\n"
    }
   }
  },
  {
   "cell_type": "markdown",
   "source": [
    "## 1. Dependências"
   ],
   "metadata": {
    "collapsed": false,
    "pycharm": {
     "name": "#%% md\n"
    }
   }
  },
  {
   "cell_type": "markdown",
   "source": [
    "Para utilizar o pacote de cálculos algébricos do Python, é preciso instalar sympy com o comando abaixo.\n",
    "Esta célula demora para executar, mas precisa ser executada somente uma vez."
   ],
   "metadata": {
    "collapsed": false,
    "pycharm": {
     "name": "#%% md\n"
    }
   }
  },
  {
   "cell_type": "code",
   "execution_count": null,
   "outputs": [],
   "source": [
    "!pip install sympy"
   ],
   "metadata": {
    "collapsed": false,
    "pycharm": {
     "name": "#%%\n",
     "is_executing": true
    }
   }
  },
  {
   "cell_type": "markdown",
   "source": [
    "## 2. Importando o SymPy"
   ],
   "metadata": {
    "collapsed": false,
    "pycharm": {
     "name": "#%% md\n"
    }
   }
  },
  {
   "cell_type": "code",
   "execution_count": 16,
   "outputs": [],
   "source": [
    "import numpy as np\n",
    "from sympy import *\n",
    "\n",
    "init_printing(use_unicode=True)"
   ],
   "metadata": {
    "collapsed": false,
    "pycharm": {
     "name": "#%%\n"
    }
   }
  },
  {
   "cell_type": "markdown",
   "source": [
    "## 3. Definindo variáveis algébricas com SymPy"
   ],
   "metadata": {
    "collapsed": false,
    "pycharm": {
     "name": "#%% md\n"
    }
   }
  },
  {
   "cell_type": "markdown",
   "source": [
    "Dependendo do tipo de problema trabalhado, diferentes notações serão necessárias.\n",
    "Porque trataremos de problemas de controle de sistemas dinâmicos, utilizaremos mais comumente variáveis como $x$, $s$,\n",
    " ou $z$, para se referir a variáveis no domínio do tempo, de Laplace ou de Z."
   ],
   "metadata": {
    "collapsed": false,
    "pycharm": {
     "name": "#%% md\n"
    }
   }
  },
  {
   "cell_type": "code",
   "execution_count": 17,
   "outputs": [
    {
     "data": {
      "text/plain": "s",
      "image/png": "[encoded data removed]",
      "text/latex": "$\\displaystyle s$"
     },
     "execution_count": 17,
     "metadata": {},
     "output_type": "execute_result"
    }
   ],
   "source": [
    "s = Symbol('s')\n",
    "s"
   ],
   "metadata": {
    "collapsed": false,
    "pycharm": {
     "name": "#%%\n"
    }
   }
  },
  {
   "cell_type": "markdown",
   "source": [
    "## Definindo sua expressão algébrica"
   ],
   "metadata": {
    "collapsed": false,
    "pycharm": {
     "name": "#%% md\n"
    }
   }
  },
  {
   "cell_type": "markdown",
   "source": [
    "Suponha que tenhamos a seguinte função transferência:\n",
    "$G(s) = \\dfrac{8s^2 + 21s + 6}{2s^3 - 7s^2 + 3s}$\n",
    "\n",
    "E nós queremos calcular a Laplace inversa desta função transferência.\n",
    "O primeiro passo seria definir a expressão algébrica que representa a expressão acima."
   ],
   "metadata": {
    "collapsed": false,
    "pycharm": {
     "name": "#%% md\n"
    }
   }
  },
  {
   "cell_type": "code",
   "execution_count": 18,
   "outputs": [
    {
     "data": {
      "text/plain": "    2            \n 8⋅s  + 21⋅s + 6 \n─────────────────\n   3      2      \n2⋅s  + 7⋅s  + 3⋅s",
      "image/png": "[encoded data removed]",
      "text/latex": "$\\displaystyle \\frac{8 s^{2} + 21 s + 6}{2 s^{3} + 7 s^{2} + 3 s}$"
     },
     "execution_count": 18,
     "metadata": {},
     "output_type": "execute_result"
    }
   ],
   "source": [
    "numerador = (8 * s ** 2 + 21 * s + 6)\n",
    "denominador = (2 * s ** 3 + 7 * s ** 2 + 3 * s)\n",
    "G = numerador / denominador\n",
    "G"
   ],
   "metadata": {
    "collapsed": false,
    "pycharm": {
     "name": "#%%\n"
    }
   }
  },
  {
   "cell_type": "markdown",
   "source": [
    "Após isso, basta usar o comando para separar em frações parciais."
   ],
   "metadata": {
    "collapsed": false,
    "pycharm": {
     "name": "#%% md\n"
    }
   }
  },
  {
   "cell_type": "code",
   "execution_count": 19,
   "outputs": [
    {
     "data": {
      "text/plain": "   2        1     2\n─────── + ───── + ─\n2⋅s + 1   s + 3   s",
      "image/png": "[encoded data removed]",
      "text/latex": "$\\displaystyle \\frac{2}{2 s + 1} + \\frac{1}{s + 3} + \\frac{2}{s}$"
     },
     "execution_count": 19,
     "metadata": {},
     "output_type": "execute_result"
    }
   ],
   "source": [
    "apart(G)\n"
   ],
   "metadata": {
    "collapsed": false,
    "pycharm": {
     "name": "#%%\n"
    }
   }
  },
  {
   "cell_type": "markdown",
   "source": [
    "## Extraindo os coeficients da expressão algébrica"
   ],
   "metadata": {
    "collapsed": false
   }
  },
  {
   "cell_type": "code",
   "execution_count": 20,
   "outputs": [],
   "source": [
    "# Extraindo numerador e denominador\n",
    "numerador, denominador = fraction(G)\n",
    "\n",
    "# Criando polinômios com os coeficientes extraídos\n",
    "num_pol = Poly(numerador, s)\n",
    "den_pol = Poly(denominador, s)\n",
    "\n",
    "# Criando vetores com os coeficientes do polinômio\n",
    "coeficientes_numerador = np.array(num_pol.all_coeffs())\n",
    "coeficientes_denominador = np.array(den_pol.all_coeffs())"
   ],
   "metadata": {
    "collapsed": false,
    "pycharm": {
     "name": "#%%\n"
    }
   }
  },
  {
   "cell_type": "code",
   "execution_count": 21,
   "outputs": [
    {
     "name": "stdout",
     "output_type": "stream",
     "text": [
      "Os coeficientes do numerador são [8 21 6] e do denominador são [2 7 3 0].\n"
     ]
    }
   ],
   "source": [
    "print(f'Os coeficientes do numerador são {coeficientes_numerador} e do denominador são {coeficientes_denominador}.')"
   ],
   "metadata": {
    "collapsed": false,
    "pycharm": {
     "name": "#%%\n"
    }
   }
  }
 ],
 "metadata": {
  "kernelspec": {
   "display_name": "Python 3",
   "language": "python",
   "name": "python3"
  },
  "language_info": {
   "codemirror_mode": {
    "name": "ipython",
    "version": 2
   },
   "file_extension": ".py",
   "mimetype": "text/x-python",
   "name": "python",
   "nbconvert_exporter": "python",
   "pygments_lexer": "ipython2",
   "version": "2.7.6"
  }
 },
 "nbformat": 4,
 "nbformat_minor": 0
}